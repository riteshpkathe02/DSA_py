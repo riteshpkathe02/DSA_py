{
 "cells": [
  {
   "cell_type": "code",
   "execution_count": 1,
   "id": "630f8e84",
   "metadata": {},
   "outputs": [],
   "source": [
    "wmt_stock_price_queue = []"
   ]
  },
  {
   "cell_type": "code",
   "execution_count": 2,
   "id": "b366eef9",
   "metadata": {},
   "outputs": [],
   "source": [
    "wmt_stock_price_queue.insert(0,131.1)\n",
    "wmt_stock_price_queue.insert(0,132.12)\n",
    "wmt_stock_price_queue.insert(0,135.58)"
   ]
  },
  {
   "cell_type": "code",
   "execution_count": 3,
   "id": "53d28c19",
   "metadata": {},
   "outputs": [
    {
     "data": {
      "text/plain": [
       "[135.58, 132.12, 131.1]"
      ]
     },
     "execution_count": 3,
     "metadata": {},
     "output_type": "execute_result"
    }
   ],
   "source": [
    "wmt_stock_price_queue"
   ]
  },
  {
   "cell_type": "code",
   "execution_count": 4,
   "id": "81739852",
   "metadata": {},
   "outputs": [
    {
     "data": {
      "text/plain": [
       "131.1"
      ]
     },
     "execution_count": 4,
     "metadata": {},
     "output_type": "execute_result"
    }
   ],
   "source": [
    "wmt_stock_price_queue.pop()"
   ]
  },
  {
   "cell_type": "code",
   "execution_count": 5,
   "id": "e358f606",
   "metadata": {},
   "outputs": [
    {
     "data": {
      "text/plain": [
       "132.12"
      ]
     },
     "execution_count": 5,
     "metadata": {},
     "output_type": "execute_result"
    }
   ],
   "source": [
    "wmt_stock_price_queue.pop()"
   ]
  },
  {
   "cell_type": "code",
   "execution_count": 6,
   "id": "d6da93ad",
   "metadata": {},
   "outputs": [
    {
     "data": {
      "text/plain": [
       "[135.58]"
      ]
     },
     "execution_count": 6,
     "metadata": {},
     "output_type": "execute_result"
    }
   ],
   "source": [
    "wmt_stock_price_queue"
   ]
  },
  {
   "cell_type": "code",
   "execution_count": 7,
   "id": "d56afed9",
   "metadata": {},
   "outputs": [],
   "source": [
    "from collections import deque\n",
    "q = deque()"
   ]
  },
  {
   "cell_type": "code",
   "execution_count": 8,
   "id": "e34cbf32",
   "metadata": {},
   "outputs": [],
   "source": [
    "q.appendleft(3)\n",
    "q.appendleft(76)\n",
    "q.appendleft(31)"
   ]
  },
  {
   "cell_type": "code",
   "execution_count": 9,
   "id": "49906c57",
   "metadata": {},
   "outputs": [
    {
     "data": {
      "text/plain": [
       "3"
      ]
     },
     "execution_count": 9,
     "metadata": {},
     "output_type": "execute_result"
    }
   ],
   "source": [
    "q.pop()"
   ]
  },
  {
   "cell_type": "code",
   "execution_count": 10,
   "id": "29073b54",
   "metadata": {},
   "outputs": [
    {
     "data": {
      "text/plain": [
       "76"
      ]
     },
     "execution_count": 10,
     "metadata": {},
     "output_type": "execute_result"
    }
   ],
   "source": [
    "q.pop()"
   ]
  },
  {
   "cell_type": "code",
   "execution_count": 21,
   "id": "b7dc5b1d",
   "metadata": {},
   "outputs": [],
   "source": [
    "class Queue: \n",
    "    def __init__(self):\n",
    "        self.buffer = deque()\n",
    "        \n",
    "    def enqueue(self, val):\n",
    "        self.buffer.appendleft(val)\n",
    "        \n",
    "    def dequeue(self):\n",
    "        if len(self.buffer)==0:\n",
    "            print(\"Queue is empty\")\n",
    "            return\n",
    "        \n",
    "        return self.buffer.pop()\n",
    "    \n",
    "    def is_empty(self):\n",
    "        return len(self.buffer)==0\n",
    "    \n",
    "    def size(self):\n",
    "        return len(self.buffer)\n",
    "    \n",
    "    def front(self):\n",
    "        return self.buffer[-1]"
   ]
  },
  {
   "cell_type": "code",
   "execution_count": 22,
   "id": "24aba6af",
   "metadata": {},
   "outputs": [],
   "source": [
    "pq = Queue()\n",
    "\n",
    "pq.enqueue({\n",
    "    'company':'TataPower',\n",
    "    'timestamp':'2 apr, 11:02 AM',\n",
    "    'price': 436.75\n",
    "})\n",
    "\n",
    "pq.enqueue({\n",
    "    'company':'TataPower',\n",
    "    'timestamp':'2 apr, 11:03 AM',\n",
    "    'price': 435.5\n",
    "})\n",
    "\n",
    "pq.enqueue({\n",
    "    'company':'TataPower',\n",
    "    'timestamp':'2 apr, 11:04 AM',\n",
    "    'price': 437.15\n",
    "})"
   ]
  },
  {
   "cell_type": "code",
   "execution_count": 23,
   "id": "313113bb",
   "metadata": {},
   "outputs": [
    {
     "data": {
      "text/plain": [
       "deque([{'company': 'TataPower',\n",
       "        'timestamp': '2 apr, 11:04 AM',\n",
       "        'price': 437.15},\n",
       "       {'company': 'TataPower',\n",
       "        'timestamp': '2 apr, 11:03 AM',\n",
       "        'price': 435.5},\n",
       "       {'company': 'TataPower',\n",
       "        'timestamp': '2 apr, 11:02 AM',\n",
       "        'price': 436.75}])"
      ]
     },
     "execution_count": 23,
     "metadata": {},
     "output_type": "execute_result"
    }
   ],
   "source": [
    "pq.buffer"
   ]
  },
  {
   "cell_type": "code",
   "execution_count": 24,
   "id": "fe4bbe6d",
   "metadata": {},
   "outputs": [
    {
     "data": {
      "text/plain": [
       "{'company': 'TataPower', 'timestamp': '2 apr, 11:02 AM', 'price': 436.75}"
      ]
     },
     "execution_count": 24,
     "metadata": {},
     "output_type": "execute_result"
    }
   ],
   "source": [
    "pq.dequeue()"
   ]
  },
  {
   "cell_type": "code",
   "execution_count": 25,
   "id": "50edb8c8",
   "metadata": {},
   "outputs": [
    {
     "data": {
      "text/plain": [
       "2"
      ]
     },
     "execution_count": 25,
     "metadata": {},
     "output_type": "execute_result"
    }
   ],
   "source": [
    "pq.size()"
   ]
  },
  {
   "cell_type": "markdown",
   "id": "d40557b8",
   "metadata": {},
   "source": [
    "# Q1"
   ]
  },
  {
   "cell_type": "code",
   "execution_count": 26,
   "id": "1f475605",
   "metadata": {},
   "outputs": [],
   "source": [
    "import time\n",
    "import threading\n",
    "food_order_queue = Queue()\n",
    "\n",
    "def place_ord(orders):\n",
    "    for item in orders:\n",
    "        print(\"Placing order for: \",item)\n",
    "        food_order_queue.enqueue(item)\n",
    "        time.sleep(0.5)\n",
    "        \n",
    "def serve_ord():\n",
    "    time.sleep(1)\n",
    "    while food_order_queue.is_empty() is False:\n",
    "        order = food_order_queue.dequeue()\n",
    "        print(\"Now serving: \",order)\n",
    "        time.sleep(2)"
   ]
  },
  {
   "cell_type": "code",
   "execution_count": 27,
   "id": "904827dd",
   "metadata": {},
   "outputs": [
    {
     "name": "stdout",
     "output_type": "stream",
     "text": [
      "Placing order for:  burger\n",
      "Placing order for:  biryani\n",
      "Placing order for: Now serving:  burger\n",
      " pasta\n",
      "Placing order for:  vadapav\n",
      "Placing order for:  khichdi\n",
      "Placing order for:  pizza\n",
      "Now serving:  biryani\n",
      "Placing order for:  bhajji\n",
      "Placing order for:  CHAI\n",
      "Now serving:  pasta\n",
      "Now serving:  vadapav\n",
      "Now serving:  khichdi\n",
      "Now serving:  pizza\n",
      "Now serving:  bhajji\n",
      "Now serving:  CHAI\n"
     ]
    }
   ],
   "source": [
    "if __name__ == \"__main__\":\n",
    "    orders = ['burger', 'biryani', 'pasta', 'vadapav', 'khichdi','pizza', 'bhajji', 'CHAI']\n",
    "    t1 = threading.Thread(target=place_ord, args=(orders,))\n",
    "    t2 = threading.Thread(target=serve_ord)\n",
    "    \n",
    "    t1.start()\n",
    "    t2.start()\n",
    "    t1.join()\n",
    "    t2.join()"
   ]
  },
  {
   "cell_type": "markdown",
   "id": "bc1a9500",
   "metadata": {},
   "source": [
    "# Q2"
   ]
  },
  {
   "cell_type": "code",
   "execution_count": 28,
   "id": "69840dd7",
   "metadata": {},
   "outputs": [
    {
     "name": "stdout",
     "output_type": "stream",
     "text": [
      "  1\n",
      "  10\n",
      "  11\n",
      "  100\n",
      "  101\n",
      "  110\n",
      "  111\n",
      "  1000\n",
      "  1001\n",
      "  1010\n"
     ]
    }
   ],
   "source": [
    "def produce_bin_no(n):\n",
    "    nos_queue = Queue()\n",
    "    nos_queue.enqueue(\"1\")\n",
    "    \n",
    "    for i in range(n):\n",
    "        front = nos_queue.front()\n",
    "        print(\" \", front)\n",
    "        nos_queue.enqueue(front + \"0\")\n",
    "        nos_queue.enqueue(front + \"1\")\n",
    "        \n",
    "        nos_queue.dequeue()\n",
    "        \n",
    "if __name__ == \"__main__\":\n",
    "    produce_bin_no(10)"
   ]
  }
 ],
 "metadata": {
  "kernelspec": {
   "display_name": "Python 3 (ipykernel)",
   "language": "python",
   "name": "python3"
  },
  "language_info": {
   "codemirror_mode": {
    "name": "ipython",
    "version": 3
   },
   "file_extension": ".py",
   "mimetype": "text/x-python",
   "name": "python",
   "nbconvert_exporter": "python",
   "pygments_lexer": "ipython3",
   "version": "3.10.9"
  }
 },
 "nbformat": 4,
 "nbformat_minor": 5
}
