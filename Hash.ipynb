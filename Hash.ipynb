{
 "cells": [
  {
   "cell_type": "code",
   "execution_count": 1,
   "id": "093a8d22",
   "metadata": {},
   "outputs": [],
   "source": [
    "def get_hash(key):\n",
    "    h=0\n",
    "    for char in key:\n",
    "        h += ord(char) #ord gives ascii value of character\n",
    "        return h%100"
   ]
  },
  {
   "cell_type": "code",
   "execution_count": 2,
   "id": "871f2b08",
   "metadata": {},
   "outputs": [
    {
     "data": {
      "text/plain": [
       "9"
      ]
     },
     "execution_count": 2,
     "metadata": {},
     "output_type": "execute_result"
    }
   ],
   "source": [
    "get_hash('march 28')"
   ]
  },
  {
   "cell_type": "code",
   "execution_count": 7,
   "id": "e2e05476",
   "metadata": {},
   "outputs": [],
   "source": [
    "class HashTable:\n",
    "    def __init__(self):\n",
    "        self.MAX = 10\n",
    "        self.arr = [[] for i in range(self.MAX)] #Now each element is key value pair not just an element\n",
    "        \n",
    "    def get_hash(self, key):\n",
    "        h=0\n",
    "        for char in key:\n",
    "            h += ord(char)\n",
    "        return h%self.MAX\n",
    "    \n",
    "    def __setitem__(self, key, val):\n",
    "        h = self.get_hash(key)\n",
    "        found = False\n",
    "        for idx, element in enumerate(self.arr[h]):\n",
    "            if len(element)==2 and element[0] == key:\n",
    "#                 element[1]==val Tuples are immutable so we need to change whole element\n",
    "                self.arr[h][idx] = (key,val)\n",
    "                found = True\n",
    "        if not found:\n",
    "            self.arr[h].append((key,val))\n",
    "        \n",
    "    def __getitem__(self, key):\n",
    "        h = self.get_hash(key)\n",
    "        for element in self.arr[h]:\n",
    "            if element[0]==key:\n",
    "                return element[1]\n",
    "    \n",
    "    def __delitem__(self, key):\n",
    "        h = self.get_hash(key)\n",
    "        for index,element in enumerate((self.arr[h])):\n",
    "            if element[0]==key:\n",
    "                del self.arr[h][index]"
   ]
  },
  {
   "cell_type": "code",
   "execution_count": 8,
   "id": "99766921",
   "metadata": {},
   "outputs": [
    {
     "data": {
      "text/plain": [
       "9"
      ]
     },
     "execution_count": 8,
     "metadata": {},
     "output_type": "execute_result"
    }
   ],
   "source": [
    "get_hash('march 17')"
   ]
  },
  {
   "cell_type": "code",
   "execution_count": 9,
   "id": "1f326ae2",
   "metadata": {},
   "outputs": [
    {
     "data": {
      "text/plain": [
       "9"
      ]
     },
     "execution_count": 9,
     "metadata": {},
     "output_type": "execute_result"
    }
   ],
   "source": [
    "get_hash('march 6')"
   ]
  },
  {
   "cell_type": "code",
   "execution_count": 12,
   "id": "59c305dd",
   "metadata": {},
   "outputs": [],
   "source": [
    "t=HashTable()\n",
    "t[\"march 6\"]=78\n",
    "t.__setitem__(\"march 17\",459)\n",
    "t.__setitem__(\"march 8\",67)\n",
    "t.__setitem__(\"march 9\",4)\n",
    "t.__setitem__(\"march 6\",41)"
   ]
  },
  {
   "cell_type": "code",
   "execution_count": 13,
   "id": "c52108ec",
   "metadata": {},
   "outputs": [
    {
     "data": {
      "text/plain": [
       "[[],\n",
       " [('march 8', 67)],\n",
       " [('march 9', 4)],\n",
       " [],\n",
       " [],\n",
       " [],\n",
       " [],\n",
       " [],\n",
       " [],\n",
       " [('march 6', 41), ('march 17', 459)]]"
      ]
     },
     "execution_count": 13,
     "metadata": {},
     "output_type": "execute_result"
    }
   ],
   "source": [
    "t.arr"
   ]
  },
  {
   "cell_type": "code",
   "execution_count": 14,
   "id": "f76f86fe",
   "metadata": {},
   "outputs": [],
   "source": [
    "t.__delitem__('march 17')"
   ]
  },
  {
   "cell_type": "code",
   "execution_count": 15,
   "id": "adf3712b",
   "metadata": {},
   "outputs": [
    {
     "data": {
      "text/plain": [
       "<__main__.HashTable at 0x207772e30d0>"
      ]
     },
     "execution_count": 15,
     "metadata": {},
     "output_type": "execute_result"
    }
   ],
   "source": [
    "t"
   ]
  },
  {
   "cell_type": "code",
   "execution_count": 17,
   "id": "8613924e",
   "metadata": {},
   "outputs": [
    {
     "data": {
      "text/plain": [
       "[[],\n",
       " [('march 8', 67)],\n",
       " [('march 9', 4)],\n",
       " [],\n",
       " [],\n",
       " [],\n",
       " [],\n",
       " [],\n",
       " [],\n",
       " [('march 6', 41)]]"
      ]
     },
     "execution_count": 17,
     "metadata": {},
     "output_type": "execute_result"
    }
   ],
   "source": [
    "t.arr"
   ]
  },
  {
   "cell_type": "code",
   "execution_count": 18,
   "id": "8e0b40ce",
   "metadata": {},
   "outputs": [],
   "source": [
    "t[\"march 17\"]=459"
   ]
  },
  {
   "cell_type": "code",
   "execution_count": 19,
   "id": "16ef79c5",
   "metadata": {},
   "outputs": [
    {
     "data": {
      "text/plain": [
       "[[],\n",
       " [('march 8', 67)],\n",
       " [('march 9', 4)],\n",
       " [],\n",
       " [],\n",
       " [],\n",
       " [],\n",
       " [],\n",
       " [],\n",
       " [('march 6', 41), ('march 17', 459)]]"
      ]
     },
     "execution_count": 19,
     "metadata": {},
     "output_type": "execute_result"
    }
   ],
   "source": [
    "t.arr"
   ]
  },
  {
   "cell_type": "code",
   "execution_count": 20,
   "id": "ac2929a9",
   "metadata": {},
   "outputs": [
    {
     "data": {
      "text/plain": [
       "459"
      ]
     },
     "execution_count": 20,
     "metadata": {},
     "output_type": "execute_result"
    }
   ],
   "source": [
    "t.__getitem__('march 17')"
   ]
  }
 ],
 "metadata": {
  "kernelspec": {
   "display_name": "Python 3 (ipykernel)",
   "language": "python",
   "name": "python3"
  },
  "language_info": {
   "codemirror_mode": {
    "name": "ipython",
    "version": 3
   },
   "file_extension": ".py",
   "mimetype": "text/x-python",
   "name": "python",
   "nbconvert_exporter": "python",
   "pygments_lexer": "ipython3",
   "version": "3.10.9"
  }
 },
 "nbformat": 4,
 "nbformat_minor": 5
}
