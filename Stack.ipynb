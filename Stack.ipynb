{
 "cells": [
  {
   "cell_type": "code",
   "execution_count": 1,
   "id": "8ddaf0d8",
   "metadata": {},
   "outputs": [],
   "source": [
    "stack = [] #list\n",
    "stack.append(5)\n",
    "stack.append(12)\n",
    "stack.append(532)\n",
    "stack.append(345)"
   ]
  },
  {
   "cell_type": "code",
   "execution_count": 2,
   "id": "fba2b7cb",
   "metadata": {},
   "outputs": [
    {
     "data": {
      "text/plain": [
       "345"
      ]
     },
     "execution_count": 2,
     "metadata": {},
     "output_type": "execute_result"
    }
   ],
   "source": [
    "stack[-1] #returns last element PEEK function of stack"
   ]
  },
  {
   "cell_type": "code",
   "execution_count": 3,
   "id": "d980f002",
   "metadata": {},
   "outputs": [
    {
     "data": {
      "text/plain": [
       "[5, 12, 532, 345]"
      ]
     },
     "execution_count": 3,
     "metadata": {},
     "output_type": "execute_result"
    }
   ],
   "source": [
    "stack"
   ]
  },
  {
   "cell_type": "code",
   "execution_count": 4,
   "id": "6bc34196",
   "metadata": {},
   "outputs": [
    {
     "data": {
      "text/plain": [
       "345"
      ]
     },
     "execution_count": 4,
     "metadata": {},
     "output_type": "execute_result"
    }
   ],
   "source": [
    "stack.pop() #Pop returns & remove element from stack"
   ]
  },
  {
   "cell_type": "code",
   "execution_count": 5,
   "id": "7e229066",
   "metadata": {},
   "outputs": [
    {
     "data": {
      "text/plain": [
       "532"
      ]
     },
     "execution_count": 5,
     "metadata": {},
     "output_type": "execute_result"
    }
   ],
   "source": [
    "stack.pop()"
   ]
  },
  {
   "cell_type": "code",
   "execution_count": 6,
   "id": "123b1faa",
   "metadata": {},
   "outputs": [
    {
     "data": {
      "text/plain": [
       "[5, 12]"
      ]
     },
     "execution_count": 6,
     "metadata": {},
     "output_type": "execute_result"
    }
   ],
   "source": [
    "stack"
   ]
  },
  {
   "cell_type": "code",
   "execution_count": 7,
   "id": "a70678d2",
   "metadata": {},
   "outputs": [],
   "source": [
    "from collections import deque #imported class from library\n",
    "s = deque()"
   ]
  },
  {
   "cell_type": "code",
   "execution_count": 8,
   "id": "9fa69a1a",
   "metadata": {},
   "outputs": [
    {
     "data": {
      "text/plain": [
       "['__add__',\n",
       " '__bool__',\n",
       " '__class__',\n",
       " '__class_getitem__',\n",
       " '__contains__',\n",
       " '__copy__',\n",
       " '__delattr__',\n",
       " '__delitem__',\n",
       " '__dir__',\n",
       " '__doc__',\n",
       " '__eq__',\n",
       " '__format__',\n",
       " '__ge__',\n",
       " '__getattribute__',\n",
       " '__getitem__',\n",
       " '__gt__',\n",
       " '__hash__',\n",
       " '__iadd__',\n",
       " '__imul__',\n",
       " '__init__',\n",
       " '__init_subclass__',\n",
       " '__iter__',\n",
       " '__le__',\n",
       " '__len__',\n",
       " '__lt__',\n",
       " '__mul__',\n",
       " '__ne__',\n",
       " '__new__',\n",
       " '__reduce__',\n",
       " '__reduce_ex__',\n",
       " '__repr__',\n",
       " '__reversed__',\n",
       " '__rmul__',\n",
       " '__setattr__',\n",
       " '__setitem__',\n",
       " '__sizeof__',\n",
       " '__str__',\n",
       " '__subclasshook__',\n",
       " 'append',\n",
       " 'appendleft',\n",
       " 'clear',\n",
       " 'copy',\n",
       " 'count',\n",
       " 'extend',\n",
       " 'extendleft',\n",
       " 'index',\n",
       " 'insert',\n",
       " 'maxlen',\n",
       " 'pop',\n",
       " 'popleft',\n",
       " 'remove',\n",
       " 'reverse',\n",
       " 'rotate']"
      ]
     },
     "execution_count": 8,
     "metadata": {},
     "output_type": "execute_result"
    }
   ],
   "source": [
    "dir(s) #shows all methods of object s"
   ]
  },
  {
   "cell_type": "code",
   "execution_count": 9,
   "id": "8cbb662e",
   "metadata": {},
   "outputs": [],
   "source": [
    "s.append(29)"
   ]
  },
  {
   "cell_type": "code",
   "execution_count": 10,
   "id": "022aeb60",
   "metadata": {},
   "outputs": [],
   "source": [
    "s.append(23)"
   ]
  },
  {
   "cell_type": "code",
   "execution_count": 11,
   "id": "44460011",
   "metadata": {},
   "outputs": [],
   "source": [
    "s.append(765)"
   ]
  },
  {
   "cell_type": "code",
   "execution_count": 12,
   "id": "f587c1ea",
   "metadata": {},
   "outputs": [],
   "source": [
    "s.append(72)"
   ]
  },
  {
   "cell_type": "code",
   "execution_count": 13,
   "id": "83559888",
   "metadata": {},
   "outputs": [
    {
     "data": {
      "text/plain": [
       "deque([29, 23, 765, 72])"
      ]
     },
     "execution_count": 13,
     "metadata": {},
     "output_type": "execute_result"
    }
   ],
   "source": [
    "s"
   ]
  },
  {
   "cell_type": "code",
   "execution_count": 14,
   "id": "7d69c615",
   "metadata": {},
   "outputs": [
    {
     "data": {
      "text/plain": [
       "72"
      ]
     },
     "execution_count": 14,
     "metadata": {},
     "output_type": "execute_result"
    }
   ],
   "source": [
    "s.pop()"
   ]
  },
  {
   "cell_type": "code",
   "execution_count": 15,
   "id": "40c715c9",
   "metadata": {},
   "outputs": [
    {
     "data": {
      "text/plain": [
       "deque([29, 23, 765])"
      ]
     },
     "execution_count": 15,
     "metadata": {},
     "output_type": "execute_result"
    }
   ],
   "source": [
    "s"
   ]
  },
  {
   "cell_type": "code",
   "execution_count": 16,
   "id": "56f8a49e",
   "metadata": {},
   "outputs": [],
   "source": [
    "class Stack:\n",
    "    def __init__(self):\n",
    "        self.container = deque()\n",
    "        \n",
    "    def push(self,val):\n",
    "        self.container.append(val)\n",
    "        \n",
    "    def pop(self):\n",
    "        return self.container.pop()\n",
    "    \n",
    "    def peek(self):\n",
    "        return self.container[-1]\n",
    "    \n",
    "    def is_empty(self):\n",
    "        return len(self.container)==0\n",
    "    \n",
    "    def size(self):\n",
    "        return len(self.container)\n",
    "    \n",
    "    def show(self):\n",
    "        return self.container      "
   ]
  },
  {
   "cell_type": "code",
   "execution_count": 17,
   "id": "da0c79e4",
   "metadata": {},
   "outputs": [],
   "source": [
    "st = Stack()"
   ]
  },
  {
   "cell_type": "code",
   "execution_count": 18,
   "id": "7f54eb32",
   "metadata": {},
   "outputs": [],
   "source": [
    "st.push(42)"
   ]
  },
  {
   "cell_type": "code",
   "execution_count": 19,
   "id": "f15dd69a",
   "metadata": {},
   "outputs": [],
   "source": [
    "st.push(25)"
   ]
  },
  {
   "cell_type": "code",
   "execution_count": 20,
   "id": "8d76adcf",
   "metadata": {},
   "outputs": [
    {
     "data": {
      "text/plain": [
       "25"
      ]
     },
     "execution_count": 20,
     "metadata": {},
     "output_type": "execute_result"
    }
   ],
   "source": [
    "st.peek()"
   ]
  },
  {
   "cell_type": "code",
   "execution_count": 21,
   "id": "b856e631",
   "metadata": {},
   "outputs": [],
   "source": [
    "st.push(39)"
   ]
  },
  {
   "cell_type": "code",
   "execution_count": 22,
   "id": "4f2a4e06",
   "metadata": {},
   "outputs": [
    {
     "data": {
      "text/plain": [
       "39"
      ]
     },
     "execution_count": 22,
     "metadata": {},
     "output_type": "execute_result"
    }
   ],
   "source": [
    "st.pop()"
   ]
  },
  {
   "cell_type": "code",
   "execution_count": 23,
   "id": "c1490c37",
   "metadata": {},
   "outputs": [
    {
     "data": {
      "text/plain": [
       "2"
      ]
     },
     "execution_count": 23,
     "metadata": {},
     "output_type": "execute_result"
    }
   ],
   "source": [
    "st.size()"
   ]
  },
  {
   "cell_type": "code",
   "execution_count": 24,
   "id": "2072bafb",
   "metadata": {},
   "outputs": [
    {
     "data": {
      "text/plain": [
       "<__main__.Stack at 0x1da2243aa40>"
      ]
     },
     "execution_count": 24,
     "metadata": {},
     "output_type": "execute_result"
    }
   ],
   "source": [
    "st"
   ]
  },
  {
   "cell_type": "code",
   "execution_count": 25,
   "id": "6e54cb66",
   "metadata": {},
   "outputs": [
    {
     "data": {
      "text/plain": [
       "deque([42, 25])"
      ]
     },
     "execution_count": 25,
     "metadata": {},
     "output_type": "execute_result"
    }
   ],
   "source": [
    "st.show()"
   ]
  },
  {
   "cell_type": "markdown",
   "id": "f0ca4769",
   "metadata": {},
   "source": [
    "# Q1"
   ]
  },
  {
   "cell_type": "code",
   "execution_count": 26,
   "id": "0422d6d0",
   "metadata": {},
   "outputs": [],
   "source": [
    "def reverse_string(string):\n",
    "    stack_s = Stack()\n",
    "    for chars in string:\n",
    "        stack_s.push(chars)\n",
    "        \n",
    "    rstr = ''\n",
    "    \n",
    "    while stack_s.size()!=0:\n",
    "        rstr += stack_s.pop()\n",
    "        \n",
    "    return rstr"
   ]
  },
  {
   "cell_type": "code",
   "execution_count": 27,
   "id": "e0b3e7a9",
   "metadata": {},
   "outputs": [
    {
     "data": {
      "text/plain": [
       "'91-DIVOC ereuqnoc lliw eW'"
      ]
     },
     "execution_count": 27,
     "metadata": {},
     "output_type": "execute_result"
    }
   ],
   "source": [
    "reverse_string('We will conquere COVID-19')"
   ]
  },
  {
   "cell_type": "markdown",
   "id": "3dfb504b",
   "metadata": {},
   "source": [
    "# Q2"
   ]
  },
  {
   "cell_type": "code",
   "execution_count": 28,
   "id": "a0d35708",
   "metadata": {},
   "outputs": [],
   "source": [
    "def is_matched(ch1, ch2):\n",
    "    match_dict = {\n",
    "        ']':'[',\n",
    "        ')':'(',\n",
    "        '}':'{',\n",
    "    }\n",
    "    return match_dict[ch1]==ch2\n",
    "\n",
    "def is_balanced(string):\n",
    "    stack = Stack()\n",
    "    for ch in string:\n",
    "        if ch=='(' or ch=='[' or ch=='{':\n",
    "            stack.push(ch)\n",
    "        if ch==')' or ch==']' or ch=='}':\n",
    "            if stack.size()==0:\n",
    "                return False\n",
    "            if not is_matched(ch,stack.pop()):\n",
    "                return False\n",
    "            \n",
    "    return stack.size()==0"
   ]
  },
  {
   "cell_type": "code",
   "execution_count": 29,
   "id": "e504572b",
   "metadata": {},
   "outputs": [
    {
     "name": "stdout",
     "output_type": "stream",
     "text": [
      "True\n",
      "False\n",
      "True\n",
      "True\n",
      "False\n",
      "True\n"
     ]
    }
   ],
   "source": [
    "print(is_balanced(\"({a+b})\"))\n",
    "print(is_balanced(\"))((a+b}{\"))\n",
    "print(is_balanced(\"((a+b))\"))\n",
    "print(is_balanced(\"((a+g))\"))\n",
    "print(is_balanced(\"))\"))\n",
    "\n",
    "print(is_balanced(\"[a+b]*(x+2y)*{gg+kk}\"))"
   ]
  }
 ],
 "metadata": {
  "kernelspec": {
   "display_name": "Python 3 (ipykernel)",
   "language": "python",
   "name": "python3"
  },
  "language_info": {
   "codemirror_mode": {
    "name": "ipython",
    "version": 3
   },
   "file_extension": ".py",
   "mimetype": "text/x-python",
   "name": "python",
   "nbconvert_exporter": "python",
   "pygments_lexer": "ipython3",
   "version": "3.10.9"
  }
 },
 "nbformat": 4,
 "nbformat_minor": 5
}
